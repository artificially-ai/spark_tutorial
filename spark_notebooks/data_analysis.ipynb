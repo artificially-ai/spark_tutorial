{
 "cells": [
  {
   "cell_type": "markdown",
   "metadata": {},
   "source": [
    "# Analysing Air Traffic Data with Spark"
   ]
  },
  {
   "cell_type": "markdown",
   "metadata": {},
   "source": [
    "#### Load Dataset"
   ]
  },
  {
   "cell_type": "code",
   "execution_count": 66,
   "metadata": {},
   "outputs": [],
   "source": [
    "val flightsCSV = \"datasets/flights.csv\"\n",
    "val flightsDS = sc.textFile(flightsCSV).filter(x => !x.contains(\"FL_DATE\"))"
   ]
  },
  {
   "cell_type": "code",
   "execution_count": 67,
   "metadata": {},
   "outputs": [
    {
     "data": {
      "text/plain": [
       "Array(2017-01-01,19805,14683,11057,\"0819\",\"1149\",1095.00,, 2017-01-01,19805,14107,10423,\"1025\",\"1351\",872.00,)"
      ]
     },
     "execution_count": 67,
     "metadata": {},
     "output_type": "execute_result"
    }
   ],
   "source": [
    "// Check the header\n",
    "flightsDS.take(2)"
   ]
  },
  {
   "cell_type": "markdown",
   "metadata": {},
   "source": [
    "#### Create a Wrapper Class"
   ]
  },
  {
   "cell_type": "code",
   "execution_count": 76,
   "metadata": {},
   "outputs": [],
   "source": [
    "import org.joda.time.format.DateTimeFormat\n",
    "\n",
    "case class USACarrier(flightDate: LocalDate, airlineId: Int, originAirportId: Int, destAirportId: Int, departuretime: String, arrivalTime: String, distance: Double) extends java.io.Serializable\n",
    "\n",
    "object USACarrierParser extends Serializable {\n",
    "\n",
    "  def parse(row: String) = {\n",
    "    val fields = row.split(\",\")\n",
    "    \n",
    "    val dateFormat = DateTimeFormat.forPattern(\"yyyy-mm-dd\")\n",
    "    \n",
    "    val flightDate = dateFormat.parseDateTime(fields(0)).toLocalDate\n",
    "    val airlineId = fields(1).toInt\n",
    "    val originAirportId = fields(2).toInt\n",
    "    val destAirportId = fields(3).toInt\n",
    "    val departuretime = fields(4)\n",
    "    val arrivalTime = fields(5)\n",
    "    val distance = fields(6).toDouble\n",
    "    \n",
    "    USACarrier(flightDate, airlineId, originAirportId, destAirportId, departuretime, arrivalTime, distance)\n",
    "  }\n",
    "}\n"
   ]
  },
  {
   "cell_type": "code",
   "execution_count": 82,
   "metadata": {},
   "outputs": [
    {
     "data": {
      "text/plain": [
       "USACarrier(2017-01-01,19805,14683,11057,\"0819\",\"1149\",1095.0)"
      ]
     },
     "execution_count": 82,
     "metadata": {},
     "output_type": "execute_result"
    }
   ],
   "source": [
    "val flightsParsed = flightsDS.map(USACarrierParser.parse(_))\n",
    "flightsParsed.first"
   ]
  },
  {
   "cell_type": "markdown",
   "metadata": {},
   "source": [
    "#### Calculate the Average Distance Travelled"
   ]
  },
  {
   "cell_type": "code",
   "execution_count": 84,
   "metadata": {},
   "outputs": [],
   "source": [
    "val flightsDistance = flightsParsed.map(_.distance)\n",
    "val totalDistance = flightsDistance.reduce((x, y) => x + y)\n",
    "val averageDistance = totalDistance / flightsParsed.count"
   ]
  },
  {
   "cell_type": "code",
   "execution_count": 86,
   "metadata": {},
   "outputs": [
    {
     "name": "stdout",
     "output_type": "stream",
     "text": [
      "Average distance tavelled in January was 852.125139716944 miles"
     ]
    }
   ],
   "source": [
    "print(s\"Average distance tavelled in January was $averageDistance miles\")"
   ]
  },
  {
   "cell_type": "code",
   "execution_count": null,
   "metadata": {},
   "outputs": [],
   "source": []
  }
 ],
 "metadata": {
  "kernelspec": {
   "display_name": "Apache Toree - Scala",
   "language": "scala",
   "name": "apache_toree_scala"
  },
  "language_info": {
   "name": "scala",
   "version": "2.10.4"
  }
 },
 "nbformat": 4,
 "nbformat_minor": 2
}
