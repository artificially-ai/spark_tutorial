{
 "cells": [
  {
   "cell_type": "markdown",
   "metadata": {},
   "source": [
    "# Using Spark to do Data Analysis"
   ]
  },
  {
   "cell_type": "markdown",
   "metadata": {},
   "source": [
    "#### Load Dataset"
   ]
  },
  {
   "cell_type": "code",
   "execution_count": 1,
   "metadata": {},
   "outputs": [],
   "source": [
    "val flightsCSV = \"datasets/usa_carrier_only.csv\"\n",
    "val flightsDS = sc.textFile(flightsCSV)"
   ]
  },
  {
   "cell_type": "markdown",
   "metadata": {},
   "source": [
    "#### Action Operations"
   ]
  },
  {
   "cell_type": "markdown",
   "metadata": {},
   "source": [
    "Actions consume the existing data in an RDD and return it to the caller."
   ]
  },
  {
   "cell_type": "code",
   "execution_count": 2,
   "metadata": {},
   "outputs": [
    {
     "data": {
      "text/plain": [
       "Array(\"UNIQUE_CARRIER\",\"UNIQUE_CARRIER_NAME\",\"ORIGIN_AIRPORT_ID\",\"ORIGIN\",\"DEST_AIRPORT_ID\",\"DEST\",\"MONTH\",, \"04Q\",\"Tradewind Aviation\",10135,\"ABE\",10721,\"BOS\",12,, \"04Q\",\"Tradewind Aviation\",10154,\"ACK\",12197,\"HPN\",12,, \"04Q\",\"Tradewind Aviation\",10154,\"ACK\",12197,\"HPN\",12,, \"04Q\",\"Tradewind Aviation\",10154,\"ACK\",15167,\"TEB\",12,, \"04Q\",\"Tradewind Aviation\",10198,\"AGC\",12197,\"HPN\",12,, \"04Q\",\"Tradewind Aviation\",10208,\"AGS\",12197,\"HPN\",12,, \"04Q\",\"Tradewind Aviation\",10257,\"ALB\",15167,\"TEB\",12,, \"04Q\",\"Tradewind Aviation\",10322,\"AOO\",15167,\"TEB\",12,, \"04Q\",\"Tradewind Aviation\",10423,\"AUS\",11259,\"DAL\",12,, \"04Q\",\"Tradewind Aviation\",10431,\"AVL\",12197,\"HPN\",12,, \"04Q\",\"Tradewind Aviation\",10540,\"BED\",14539,\"RKD\",12,, \"04Q\",\"Tradewind Aviation\",10540,\"BED\",15167,\"TEB\"..."
      ]
     },
     "execution_count": 2,
     "metadata": {},
     "output_type": "execute_result"
    }
   ],
   "source": [
    "flightsDS.collect"
   ]
  },
  {
   "cell_type": "code",
   "execution_count": 3,
   "metadata": {},
   "outputs": [
    {
     "data": {
      "text/plain": [
       "\"UNIQUE_CARRIER\",\"UNIQUE_CARRIER_NAME\",\"ORIGIN_AIRPORT_ID\",\"ORIGIN\",\"DEST_AIRPORT_ID\",\"DEST\",\"MONTH\","
      ]
     },
     "execution_count": 3,
     "metadata": {},
     "output_type": "execute_result"
    }
   ],
   "source": [
    "flightsDS.first"
   ]
  },
  {
   "cell_type": "code",
   "execution_count": 4,
   "metadata": {},
   "outputs": [
    {
     "data": {
      "text/plain": [
       "Array(\"UNIQUE_CARRIER\",\"UNIQUE_CARRIER_NAME\",\"ORIGIN_AIRPORT_ID\",\"ORIGIN\",\"DEST_AIRPORT_ID\",\"DEST\",\"MONTH\",, \"04Q\",\"Tradewind Aviation\",10135,\"ABE\",10721,\"BOS\",12,, \"04Q\",\"Tradewind Aviation\",10154,\"ACK\",12197,\"HPN\",12,, \"04Q\",\"Tradewind Aviation\",10154,\"ACK\",12197,\"HPN\",12,, \"04Q\",\"Tradewind Aviation\",10154,\"ACK\",15167,\"TEB\",12,, \"04Q\",\"Tradewind Aviation\",10198,\"AGC\",12197,\"HPN\",12,, \"04Q\",\"Tradewind Aviation\",10208,\"AGS\",12197,\"HPN\",12,, \"04Q\",\"Tradewind Aviation\",10257,\"ALB\",15167,\"TEB\",12,, \"04Q\",\"Tradewind Aviation\",10322,\"AOO\",15167,\"TEB\",12,, \"04Q\",\"Tradewind Aviation\",10423,\"AUS\",11259,\"DAL\",12,)"
      ]
     },
     "execution_count": 4,
     "metadata": {},
     "output_type": "execute_result"
    }
   ],
   "source": [
    "flightsDS.take(10)"
   ]
  },
  {
   "cell_type": "code",
   "execution_count": 5,
   "metadata": {},
   "outputs": [
    {
     "data": {
      "text/plain": [
       "21751"
      ]
     },
     "execution_count": 5,
     "metadata": {},
     "output_type": "execute_result"
    }
   ],
   "source": [
    "flightsDS.count()"
   ]
  },
  {
   "cell_type": "markdown",
   "metadata": {},
   "source": [
    "#### Filtering the Header"
   ]
  },
  {
   "cell_type": "markdown",
   "metadata": {},
   "source": [
    "Filters are a Transformation function, like map, aggregate, etc. They consume the data, apply a transformation and return a new RDD for the sake of immutability."
   ]
  },
  {
   "cell_type": "code",
   "execution_count": 6,
   "metadata": {},
   "outputs": [],
   "source": [
    "// The first line of the file contains the header.\n",
    "// By filtering based on one of the headers, we get only the remaining lines: the data.\n",
    "val newFlightsDS = flightsDS.filter(x => !x.contains(\"UNIQUE_CARRIER\")).map(x => x.split(\",\"))"
   ]
  },
  {
   "cell_type": "code",
   "execution_count": 7,
   "metadata": {},
   "outputs": [
    {
     "data": {
      "text/plain": [
       "Array(Array(\"04Q\", \"Tradewind Aviation\", 10135, \"ABE\", 10721, \"BOS\", 12), Array(\"04Q\", \"Tradewind Aviation\", 10154, \"ACK\", 12197, \"HPN\", 12), Array(\"04Q\", \"Tradewind Aviation\", 10154, \"ACK\", 12197, \"HPN\", 12), Array(\"04Q\", \"Tradewind Aviation\", 10154, \"ACK\", 15167, \"TEB\", 12), Array(\"04Q\", \"Tradewind Aviation\", 10198, \"AGC\", 12197, \"HPN\", 12), Array(\"04Q\", \"Tradewind Aviation\", 10208, \"AGS\", 12197, \"HPN\", 12), Array(\"04Q\", \"Tradewind Aviation\", 10257, \"ALB\", 15167, \"TEB\", 12), Array(\"04Q\", \"Tradewind Aviation\", 10322, \"AOO\", 15167, \"TEB\", 12), Array(\"04Q\", \"Tradewind Aviation\", 10423, \"AUS\", 11259, \"DAL\", 12), Array(\"04Q\", \"Tradewind Aviation\", 10431, \"AVL\", 12197, \"HPN\", 12))"
      ]
     },
     "execution_count": 7,
     "metadata": {},
     "output_type": "execute_result"
    }
   ],
   "source": [
    "newFlightsDS.take(10)"
   ]
  },
  {
   "cell_type": "markdown",
   "metadata": {},
   "source": [
    "#### Basic Transformations"
   ]
  },
  {
   "cell_type": "code",
   "execution_count": 8,
   "metadata": {},
   "outputs": [],
   "source": [
    "val sentences = Seq(\"\", \"Where do we go from here?\", \"Right-down, slightly to the left of Mars.\", \"I'm the man from the planet Marzipan.\")\n",
    "val sentencesDS = sc.parallelize(sentences)"
   ]
  },
  {
   "cell_type": "code",
   "execution_count": 9,
   "metadata": {},
   "outputs": [],
   "source": [
    "val flatSentencesDS = sentencesDS.filter(x => x != \"\").flatMap(x => x.split(\" \"))"
   ]
  },
  {
   "cell_type": "code",
   "execution_count": 10,
   "metadata": {},
   "outputs": [
    {
     "data": {
      "text/plain": [
       "Array(Where, do, we, go, from, here?)"
      ]
     },
     "execution_count": 10,
     "metadata": {},
     "output_type": "execute_result"
    }
   ],
   "source": [
    "flatSentencesDS.take(6)"
   ]
  },
  {
   "cell_type": "code",
   "execution_count": null,
   "metadata": {},
   "outputs": [],
   "source": []
  }
 ],
 "metadata": {
  "kernelspec": {
   "display_name": "Apache Toree - Scala",
   "language": "scala",
   "name": "apache_toree_scala"
  },
  "language_info": {
   "name": "scala",
   "version": "2.10.4"
  }
 },
 "nbformat": 4,
 "nbformat_minor": 2
}
